{
 "cells": [
  {
   "cell_type": "code",
   "execution_count": 226,
   "metadata": {},
   "outputs": [
    {
     "data": {
      "text/plain": [
       "['anscombe',\n",
       " 'attention',\n",
       " 'brain_networks',\n",
       " 'car_crashes',\n",
       " 'diamonds',\n",
       " 'dots',\n",
       " 'exercise',\n",
       " 'flights',\n",
       " 'fmri',\n",
       " 'gammas',\n",
       " 'iris',\n",
       " 'mpg',\n",
       " 'planets',\n",
       " 'tips',\n",
       " 'titanic']"
      ]
     },
     "execution_count": 226,
     "metadata": {},
     "output_type": "execute_result"
    }
   ],
   "source": [
    "#seaborn lib contain irir dataset\n",
    "import seaborn as sns\n",
    "sns.get_dataset_names()"
   ]
  },
  {
   "cell_type": "code",
   "execution_count": 227,
   "metadata": {},
   "outputs": [
    {
     "data": {
      "text/html": [
       "<div>\n",
       "<style scoped>\n",
       "    .dataframe tbody tr th:only-of-type {\n",
       "        vertical-align: middle;\n",
       "    }\n",
       "\n",
       "    .dataframe tbody tr th {\n",
       "        vertical-align: top;\n",
       "    }\n",
       "\n",
       "    .dataframe thead th {\n",
       "        text-align: right;\n",
       "    }\n",
       "</style>\n",
       "<table border=\"1\" class=\"dataframe\">\n",
       "  <thead>\n",
       "    <tr style=\"text-align: right;\">\n",
       "      <th></th>\n",
       "      <th>sepal_length</th>\n",
       "      <th>sepal_width</th>\n",
       "      <th>petal_length</th>\n",
       "      <th>petal_width</th>\n",
       "      <th>species</th>\n",
       "    </tr>\n",
       "  </thead>\n",
       "  <tbody>\n",
       "    <tr>\n",
       "      <td>0</td>\n",
       "      <td>5.1</td>\n",
       "      <td>3.5</td>\n",
       "      <td>1.4</td>\n",
       "      <td>0.2</td>\n",
       "      <td>setosa</td>\n",
       "    </tr>\n",
       "    <tr>\n",
       "      <td>1</td>\n",
       "      <td>4.9</td>\n",
       "      <td>3.0</td>\n",
       "      <td>1.4</td>\n",
       "      <td>0.2</td>\n",
       "      <td>setosa</td>\n",
       "    </tr>\n",
       "    <tr>\n",
       "      <td>2</td>\n",
       "      <td>4.7</td>\n",
       "      <td>3.2</td>\n",
       "      <td>1.3</td>\n",
       "      <td>0.2</td>\n",
       "      <td>setosa</td>\n",
       "    </tr>\n",
       "    <tr>\n",
       "      <td>3</td>\n",
       "      <td>4.6</td>\n",
       "      <td>3.1</td>\n",
       "      <td>1.5</td>\n",
       "      <td>0.2</td>\n",
       "      <td>setosa</td>\n",
       "    </tr>\n",
       "    <tr>\n",
       "      <td>4</td>\n",
       "      <td>5.0</td>\n",
       "      <td>3.6</td>\n",
       "      <td>1.4</td>\n",
       "      <td>0.2</td>\n",
       "      <td>setosa</td>\n",
       "    </tr>\n",
       "    <tr>\n",
       "      <td>...</td>\n",
       "      <td>...</td>\n",
       "      <td>...</td>\n",
       "      <td>...</td>\n",
       "      <td>...</td>\n",
       "      <td>...</td>\n",
       "    </tr>\n",
       "    <tr>\n",
       "      <td>145</td>\n",
       "      <td>6.7</td>\n",
       "      <td>3.0</td>\n",
       "      <td>5.2</td>\n",
       "      <td>2.3</td>\n",
       "      <td>virginica</td>\n",
       "    </tr>\n",
       "    <tr>\n",
       "      <td>146</td>\n",
       "      <td>6.3</td>\n",
       "      <td>2.5</td>\n",
       "      <td>5.0</td>\n",
       "      <td>1.9</td>\n",
       "      <td>virginica</td>\n",
       "    </tr>\n",
       "    <tr>\n",
       "      <td>147</td>\n",
       "      <td>6.5</td>\n",
       "      <td>3.0</td>\n",
       "      <td>5.2</td>\n",
       "      <td>2.0</td>\n",
       "      <td>virginica</td>\n",
       "    </tr>\n",
       "    <tr>\n",
       "      <td>148</td>\n",
       "      <td>6.2</td>\n",
       "      <td>3.4</td>\n",
       "      <td>5.4</td>\n",
       "      <td>2.3</td>\n",
       "      <td>virginica</td>\n",
       "    </tr>\n",
       "    <tr>\n",
       "      <td>149</td>\n",
       "      <td>5.9</td>\n",
       "      <td>3.0</td>\n",
       "      <td>5.1</td>\n",
       "      <td>1.8</td>\n",
       "      <td>virginica</td>\n",
       "    </tr>\n",
       "  </tbody>\n",
       "</table>\n",
       "<p>150 rows × 5 columns</p>\n",
       "</div>"
      ],
      "text/plain": [
       "     sepal_length  sepal_width  petal_length  petal_width    species\n",
       "0             5.1          3.5           1.4          0.2     setosa\n",
       "1             4.9          3.0           1.4          0.2     setosa\n",
       "2             4.7          3.2           1.3          0.2     setosa\n",
       "3             4.6          3.1           1.5          0.2     setosa\n",
       "4             5.0          3.6           1.4          0.2     setosa\n",
       "..            ...          ...           ...          ...        ...\n",
       "145           6.7          3.0           5.2          2.3  virginica\n",
       "146           6.3          2.5           5.0          1.9  virginica\n",
       "147           6.5          3.0           5.2          2.0  virginica\n",
       "148           6.2          3.4           5.4          2.3  virginica\n",
       "149           5.9          3.0           5.1          1.8  virginica\n",
       "\n",
       "[150 rows x 5 columns]"
      ]
     },
     "execution_count": 227,
     "metadata": {},
     "output_type": "execute_result"
    }
   ],
   "source": [
    "#iris data set contain 150 rows and 5 columns\n",
    "df=sns.load_dataset('iris')\n",
    "df"
   ]
  },
  {
   "cell_type": "code",
   "execution_count": 228,
   "metadata": {},
   "outputs": [
    {
     "data": {
      "text/html": [
       "<div>\n",
       "<style scoped>\n",
       "    .dataframe tbody tr th:only-of-type {\n",
       "        vertical-align: middle;\n",
       "    }\n",
       "\n",
       "    .dataframe tbody tr th {\n",
       "        vertical-align: top;\n",
       "    }\n",
       "\n",
       "    .dataframe thead th {\n",
       "        text-align: right;\n",
       "    }\n",
       "</style>\n",
       "<table border=\"1\" class=\"dataframe\">\n",
       "  <thead>\n",
       "    <tr style=\"text-align: right;\">\n",
       "      <th></th>\n",
       "      <th>sepal_length</th>\n",
       "      <th>sepal_width</th>\n",
       "      <th>petal_length</th>\n",
       "      <th>petal_width</th>\n",
       "      <th>species</th>\n",
       "    </tr>\n",
       "  </thead>\n",
       "  <tbody>\n",
       "    <tr>\n",
       "      <td>0</td>\n",
       "      <td>5.1</td>\n",
       "      <td>3.5</td>\n",
       "      <td>1.4</td>\n",
       "      <td>0.2</td>\n",
       "      <td>setosa</td>\n",
       "    </tr>\n",
       "    <tr>\n",
       "      <td>1</td>\n",
       "      <td>4.9</td>\n",
       "      <td>3.0</td>\n",
       "      <td>1.4</td>\n",
       "      <td>0.2</td>\n",
       "      <td>setosa</td>\n",
       "    </tr>\n",
       "    <tr>\n",
       "      <td>2</td>\n",
       "      <td>4.7</td>\n",
       "      <td>3.2</td>\n",
       "      <td>1.3</td>\n",
       "      <td>0.2</td>\n",
       "      <td>setosa</td>\n",
       "    </tr>\n",
       "    <tr>\n",
       "      <td>3</td>\n",
       "      <td>4.6</td>\n",
       "      <td>3.1</td>\n",
       "      <td>1.5</td>\n",
       "      <td>0.2</td>\n",
       "      <td>setosa</td>\n",
       "    </tr>\n",
       "    <tr>\n",
       "      <td>4</td>\n",
       "      <td>5.0</td>\n",
       "      <td>3.6</td>\n",
       "      <td>1.4</td>\n",
       "      <td>0.2</td>\n",
       "      <td>setosa</td>\n",
       "    </tr>\n",
       "  </tbody>\n",
       "</table>\n",
       "</div>"
      ],
      "text/plain": [
       "   sepal_length  sepal_width  petal_length  petal_width species\n",
       "0           5.1          3.5           1.4          0.2  setosa\n",
       "1           4.9          3.0           1.4          0.2  setosa\n",
       "2           4.7          3.2           1.3          0.2  setosa\n",
       "3           4.6          3.1           1.5          0.2  setosa\n",
       "4           5.0          3.6           1.4          0.2  setosa"
      ]
     },
     "execution_count": 228,
     "metadata": {},
     "output_type": "execute_result"
    }
   ],
   "source": [
    "df.head()"
   ]
  },
  {
   "cell_type": "code",
   "execution_count": 229,
   "metadata": {},
   "outputs": [],
   "source": [
    "#label encoder---convert string to numeric data\n",
    "\n",
    "from sklearn.preprocessing import LabelEncoder,OneHotEncoder\n",
    "import warnings\n",
    "warnings.filterwarnings('ignore')\n"
   ]
  },
  {
   "cell_type": "code",
   "execution_count": 230,
   "metadata": {},
   "outputs": [],
   "source": [
    "le=LabelEncoder()"
   ]
  },
  {
   "cell_type": "code",
   "execution_count": 231,
   "metadata": {},
   "outputs": [
    {
     "data": {
      "text/plain": [
       "0      0\n",
       "1      0\n",
       "2      0\n",
       "3      0\n",
       "4      0\n",
       "      ..\n",
       "145    2\n",
       "146    2\n",
       "147    2\n",
       "148    2\n",
       "149    2\n",
       "Name: species, Length: 150, dtype: int32"
      ]
     },
     "execution_count": 231,
     "metadata": {},
     "output_type": "execute_result"
    }
   ],
   "source": [
    "df['species']=le.fit_transform(df['species'])\n",
    "df['species']\n"
   ]
  },
  {
   "cell_type": "code",
   "execution_count": 232,
   "metadata": {},
   "outputs": [
    {
     "data": {
      "text/html": [
       "<div>\n",
       "<style scoped>\n",
       "    .dataframe tbody tr th:only-of-type {\n",
       "        vertical-align: middle;\n",
       "    }\n",
       "\n",
       "    .dataframe tbody tr th {\n",
       "        vertical-align: top;\n",
       "    }\n",
       "\n",
       "    .dataframe thead th {\n",
       "        text-align: right;\n",
       "    }\n",
       "</style>\n",
       "<table border=\"1\" class=\"dataframe\">\n",
       "  <thead>\n",
       "    <tr style=\"text-align: right;\">\n",
       "      <th></th>\n",
       "      <th>sepal_length</th>\n",
       "      <th>sepal_width</th>\n",
       "      <th>petal_length</th>\n",
       "      <th>petal_width</th>\n",
       "      <th>species</th>\n",
       "    </tr>\n",
       "  </thead>\n",
       "  <tbody>\n",
       "    <tr>\n",
       "      <td>0</td>\n",
       "      <td>5.1</td>\n",
       "      <td>3.5</td>\n",
       "      <td>1.4</td>\n",
       "      <td>0.2</td>\n",
       "      <td>0</td>\n",
       "    </tr>\n",
       "    <tr>\n",
       "      <td>1</td>\n",
       "      <td>4.9</td>\n",
       "      <td>3.0</td>\n",
       "      <td>1.4</td>\n",
       "      <td>0.2</td>\n",
       "      <td>0</td>\n",
       "    </tr>\n",
       "    <tr>\n",
       "      <td>2</td>\n",
       "      <td>4.7</td>\n",
       "      <td>3.2</td>\n",
       "      <td>1.3</td>\n",
       "      <td>0.2</td>\n",
       "      <td>0</td>\n",
       "    </tr>\n",
       "    <tr>\n",
       "      <td>3</td>\n",
       "      <td>4.6</td>\n",
       "      <td>3.1</td>\n",
       "      <td>1.5</td>\n",
       "      <td>0.2</td>\n",
       "      <td>0</td>\n",
       "    </tr>\n",
       "    <tr>\n",
       "      <td>4</td>\n",
       "      <td>5.0</td>\n",
       "      <td>3.6</td>\n",
       "      <td>1.4</td>\n",
       "      <td>0.2</td>\n",
       "      <td>0</td>\n",
       "    </tr>\n",
       "    <tr>\n",
       "      <td>...</td>\n",
       "      <td>...</td>\n",
       "      <td>...</td>\n",
       "      <td>...</td>\n",
       "      <td>...</td>\n",
       "      <td>...</td>\n",
       "    </tr>\n",
       "    <tr>\n",
       "      <td>145</td>\n",
       "      <td>6.7</td>\n",
       "      <td>3.0</td>\n",
       "      <td>5.2</td>\n",
       "      <td>2.3</td>\n",
       "      <td>2</td>\n",
       "    </tr>\n",
       "    <tr>\n",
       "      <td>146</td>\n",
       "      <td>6.3</td>\n",
       "      <td>2.5</td>\n",
       "      <td>5.0</td>\n",
       "      <td>1.9</td>\n",
       "      <td>2</td>\n",
       "    </tr>\n",
       "    <tr>\n",
       "      <td>147</td>\n",
       "      <td>6.5</td>\n",
       "      <td>3.0</td>\n",
       "      <td>5.2</td>\n",
       "      <td>2.0</td>\n",
       "      <td>2</td>\n",
       "    </tr>\n",
       "    <tr>\n",
       "      <td>148</td>\n",
       "      <td>6.2</td>\n",
       "      <td>3.4</td>\n",
       "      <td>5.4</td>\n",
       "      <td>2.3</td>\n",
       "      <td>2</td>\n",
       "    </tr>\n",
       "    <tr>\n",
       "      <td>149</td>\n",
       "      <td>5.9</td>\n",
       "      <td>3.0</td>\n",
       "      <td>5.1</td>\n",
       "      <td>1.8</td>\n",
       "      <td>2</td>\n",
       "    </tr>\n",
       "  </tbody>\n",
       "</table>\n",
       "<p>150 rows × 5 columns</p>\n",
       "</div>"
      ],
      "text/plain": [
       "     sepal_length  sepal_width  petal_length  petal_width  species\n",
       "0             5.1          3.5           1.4          0.2        0\n",
       "1             4.9          3.0           1.4          0.2        0\n",
       "2             4.7          3.2           1.3          0.2        0\n",
       "3             4.6          3.1           1.5          0.2        0\n",
       "4             5.0          3.6           1.4          0.2        0\n",
       "..            ...          ...           ...          ...      ...\n",
       "145           6.7          3.0           5.2          2.3        2\n",
       "146           6.3          2.5           5.0          1.9        2\n",
       "147           6.5          3.0           5.2          2.0        2\n",
       "148           6.2          3.4           5.4          2.3        2\n",
       "149           5.9          3.0           5.1          1.8        2\n",
       "\n",
       "[150 rows x 5 columns]"
      ]
     },
     "execution_count": 232,
     "metadata": {},
     "output_type": "execute_result"
    }
   ],
   "source": [
    "df"
   ]
  },
  {
   "cell_type": "code",
   "execution_count": 233,
   "metadata": {},
   "outputs": [
    {
     "data": {
      "text/plain": [
       "(150, 5)"
      ]
     },
     "execution_count": 233,
     "metadata": {},
     "output_type": "execute_result"
    }
   ],
   "source": [
    "#EDA---graphs,check null values, outlier and skewness\n",
    "\n",
    "\n",
    "\n",
    "\n",
    "df.shape # rows and columns"
   ]
  },
  {
   "cell_type": "code",
   "execution_count": 234,
   "metadata": {},
   "outputs": [
    {
     "data": {
      "text/plain": [
       "sepal_length    float64\n",
       "sepal_width     float64\n",
       "petal_length    float64\n",
       "petal_width     float64\n",
       "species           int32\n",
       "dtype: object"
      ]
     },
     "execution_count": 234,
     "metadata": {},
     "output_type": "execute_result"
    }
   ],
   "source": [
    "df.dtypes #give column type"
   ]
  },
  {
   "cell_type": "code",
   "execution_count": 235,
   "metadata": {},
   "outputs": [
    {
     "data": {
      "text/html": [
       "<div>\n",
       "<style scoped>\n",
       "    .dataframe tbody tr th:only-of-type {\n",
       "        vertical-align: middle;\n",
       "    }\n",
       "\n",
       "    .dataframe tbody tr th {\n",
       "        vertical-align: top;\n",
       "    }\n",
       "\n",
       "    .dataframe thead th {\n",
       "        text-align: right;\n",
       "    }\n",
       "</style>\n",
       "<table border=\"1\" class=\"dataframe\">\n",
       "  <thead>\n",
       "    <tr style=\"text-align: right;\">\n",
       "      <th></th>\n",
       "      <th>sepal_length</th>\n",
       "      <th>sepal_width</th>\n",
       "      <th>petal_length</th>\n",
       "      <th>petal_width</th>\n",
       "      <th>species</th>\n",
       "    </tr>\n",
       "  </thead>\n",
       "  <tbody>\n",
       "    <tr>\n",
       "      <td>count</td>\n",
       "      <td>150.000000</td>\n",
       "      <td>150.000000</td>\n",
       "      <td>150.000000</td>\n",
       "      <td>150.000000</td>\n",
       "      <td>150.000000</td>\n",
       "    </tr>\n",
       "    <tr>\n",
       "      <td>mean</td>\n",
       "      <td>5.843333</td>\n",
       "      <td>3.057333</td>\n",
       "      <td>3.758000</td>\n",
       "      <td>1.199333</td>\n",
       "      <td>1.000000</td>\n",
       "    </tr>\n",
       "    <tr>\n",
       "      <td>std</td>\n",
       "      <td>0.828066</td>\n",
       "      <td>0.435866</td>\n",
       "      <td>1.765298</td>\n",
       "      <td>0.762238</td>\n",
       "      <td>0.819232</td>\n",
       "    </tr>\n",
       "    <tr>\n",
       "      <td>min</td>\n",
       "      <td>4.300000</td>\n",
       "      <td>2.000000</td>\n",
       "      <td>1.000000</td>\n",
       "      <td>0.100000</td>\n",
       "      <td>0.000000</td>\n",
       "    </tr>\n",
       "    <tr>\n",
       "      <td>25%</td>\n",
       "      <td>5.100000</td>\n",
       "      <td>2.800000</td>\n",
       "      <td>1.600000</td>\n",
       "      <td>0.300000</td>\n",
       "      <td>0.000000</td>\n",
       "    </tr>\n",
       "    <tr>\n",
       "      <td>50%</td>\n",
       "      <td>5.800000</td>\n",
       "      <td>3.000000</td>\n",
       "      <td>4.350000</td>\n",
       "      <td>1.300000</td>\n",
       "      <td>1.000000</td>\n",
       "    </tr>\n",
       "    <tr>\n",
       "      <td>75%</td>\n",
       "      <td>6.400000</td>\n",
       "      <td>3.300000</td>\n",
       "      <td>5.100000</td>\n",
       "      <td>1.800000</td>\n",
       "      <td>2.000000</td>\n",
       "    </tr>\n",
       "    <tr>\n",
       "      <td>max</td>\n",
       "      <td>7.900000</td>\n",
       "      <td>4.400000</td>\n",
       "      <td>6.900000</td>\n",
       "      <td>2.500000</td>\n",
       "      <td>2.000000</td>\n",
       "    </tr>\n",
       "  </tbody>\n",
       "</table>\n",
       "</div>"
      ],
      "text/plain": [
       "       sepal_length  sepal_width  petal_length  petal_width     species\n",
       "count    150.000000   150.000000    150.000000   150.000000  150.000000\n",
       "mean       5.843333     3.057333      3.758000     1.199333    1.000000\n",
       "std        0.828066     0.435866      1.765298     0.762238    0.819232\n",
       "min        4.300000     2.000000      1.000000     0.100000    0.000000\n",
       "25%        5.100000     2.800000      1.600000     0.300000    0.000000\n",
       "50%        5.800000     3.000000      4.350000     1.300000    1.000000\n",
       "75%        6.400000     3.300000      5.100000     1.800000    2.000000\n",
       "max        7.900000     4.400000      6.900000     2.500000    2.000000"
      ]
     },
     "execution_count": 235,
     "metadata": {},
     "output_type": "execute_result"
    }
   ],
   "source": [
    "df.describe() #give full info about mean,max and percentile and also give info about outlier"
   ]
  },
  {
   "cell_type": "code",
   "execution_count": 236,
   "metadata": {},
   "outputs": [
    {
     "data": {
      "text/plain": [
       "<matplotlib.axes._subplots.AxesSubplot at 0x1335b915148>"
      ]
     },
     "execution_count": 236,
     "metadata": {},
     "output_type": "execute_result"
    },
    {
     "data": {
      "image/png": "[encoded data removed]",
      "text/plain": [
       "<Figure size 432x288 with 1 Axes>"
      ]
     },
     "metadata": {
      "needs_background": "light"
     },
     "output_type": "display_data"
    }
   ],
   "source": [
    "import pandas as pd\n",
    "import matplotlib.pyplot as plt   #lib for graphs\n",
    "import numpy as np                \n",
    "df['sepal_length'].plot.box()    #no outlier\n"
   ]
  },
  {
   "cell_type": "code",
   "execution_count": 237,
   "metadata": {},
   "outputs": [
    {
     "data": {
      "text/plain": [
       "<matplotlib.axes._subplots.AxesSubplot at 0x1335b8ede08>"
      ]
     },
     "execution_count": 237,
     "metadata": {},
     "output_type": "execute_result"
    },
    {
     "data": {
      "image/png": "[encoded data removed]",
      "text/plain": [
       "<Figure size 432x288 with 1 Axes>"
      ]
     },
     "metadata": {
      "needs_background": "light"
     },
     "output_type": "display_data"
    }
   ],
   "source": [
    "df['sepal_width'].plot.box()   # outlier present\n"
   ]
  },
  {
   "cell_type": "code",
   "execution_count": 238,
   "metadata": {},
   "outputs": [
    {
     "data": {
      "text/plain": [
       "<matplotlib.axes._subplots.AxesSubplot at 0x1335b88a588>"
      ]
     },
     "execution_count": 238,
     "metadata": {},
     "output_type": "execute_result"
    },
    {
     "data": {
      "image/png": "[encoded data removed]",
      "text/plain": [
       "<Figure size 432x288 with 1 Axes>"
      ]
     },
     "metadata": {
      "needs_background": "light"
     },
     "output_type": "display_data"
    }
   ],
   "source": [
    "df['petal_length'].plot.box() #no outlier"
   ]
  },
  {
   "cell_type": "code",
   "execution_count": 239,
   "metadata": {},
   "outputs": [
    {
     "data": {
      "text/plain": [
       "<matplotlib.axes._subplots.AxesSubplot at 0x1335b8a2c88>"
      ]
     },
     "execution_count": 239,
     "metadata": {},
     "output_type": "execute_result"
    },
    {
     "data": {
      "image/png": "[encoded data removed]",
      "text/plain": [
       "<Figure size 432x288 with 1 Axes>"
      ]
     },
     "metadata": {
      "needs_background": "light"
     },
     "output_type": "display_data"
    }
   ],
   "source": [
    "df['petal_width'].plot.box() #no outlier"
   ]
  },
  {
   "cell_type": "code",
   "execution_count": 240,
   "metadata": {},
   "outputs": [
    {
     "data": {
      "text/plain": [
       "<matplotlib.collections.PathCollection at 0x1335c968b08>"
      ]
     },
     "execution_count": 240,
     "metadata": {},
     "output_type": "execute_result"
    },
    {
     "data": {
      "image/png": "[encoded data removed]",
      "text/plain": [
       "<Figure size 432x288 with 1 Axes>"
      ]
     },
     "metadata": {
      "needs_background": "light"
     },
     "output_type": "display_data"
    }
   ],
   "source": [
    "plt.scatter(df['species'],df['petal_length']) #various types of species like setosa(1-2), versicolor(3-5),\n",
    "                                             # virginica(4.5-7) petal length "
   ]
  },
  {
   "cell_type": "code",
   "execution_count": 241,
   "metadata": {},
   "outputs": [
    {
     "data": {
      "text/plain": [
       "<matplotlib.collections.PathCollection at 0x1335c9d7dc8>"
      ]
     },
     "execution_count": 241,
     "metadata": {},
     "output_type": "execute_result"
    },
    {
     "data": {
      "image/png": "[encoded data removed]",
      "text/plain": [
       "<Figure size 432x288 with 1 Axes>"
      ]
     },
     "metadata": {
      "needs_background": "light"
     },
     "output_type": "display_data"
    }
   ],
   "source": [
    "plt.scatter(df['species'],df['petal_width'])"
   ]
  },
  {
   "cell_type": "code",
   "execution_count": 242,
   "metadata": {},
   "outputs": [
    {
     "data": {
      "text/plain": [
       "<matplotlib.collections.PathCollection at 0x1335ca42e88>"
      ]
     },
     "execution_count": 242,
     "metadata": {},
     "output_type": "execute_result"
    },
    {
     "data": {
      "image/png": "[encoded data removed]",
      "text/plain": [
       "<Figure size 432x288 with 1 Axes>"
      ]
     },
     "metadata": {
      "needs_background": "light"
     },
     "output_type": "display_data"
    }
   ],
   "source": [
    "plt.scatter(df['species'],df['sepal_length'])"
   ]
  },
  {
   "cell_type": "code",
   "execution_count": 243,
   "metadata": {
    "scrolled": true
   },
   "outputs": [
    {
     "data": {
      "text/plain": [
       "<matplotlib.collections.PathCollection at 0x1335caba348>"
      ]
     },
     "execution_count": 243,
     "metadata": {},
     "output_type": "execute_result"
    },
    {
     "data": {
      "image/png": "[encoded data removed]",
      "text/plain": [
       "<Figure size 432x288 with 1 Axes>"
      ]
     },
     "metadata": {
      "needs_background": "light"
     },
     "output_type": "display_data"
    }
   ],
   "source": [
    "plt.scatter(df['species'],df['sepal_width'])"
   ]
  },
  {
   "cell_type": "code",
   "execution_count": 244,
   "metadata": {},
   "outputs": [
    {
     "data": {
      "image/png": "[encoded data removed]",
      "text/plain": [
       "<Figure size 432x288 with 1 Axes>"
      ]
     },
     "metadata": {
      "needs_background": "light"
     },
     "output_type": "display_data"
    }
   ],
   "source": [
    "sns.barplot(x='species',y='sepal_length',data=df)\n",
    "plt.show()"
   ]
  },
  {
   "cell_type": "code",
   "execution_count": 245,
   "metadata": {},
   "outputs": [
    {
     "data": {
      "image/png": "[encoded data removed]",
      "text/plain": [
       "<Figure size 432x288 with 1 Axes>"
      ]
     },
     "metadata": {
      "needs_background": "light"
     },
     "output_type": "display_data"
    }
   ],
   "source": [
    "sns.barplot(x='species',y='sepal_width',data=df)\n",
    "plt.show()"
   ]
  },
  {
   "cell_type": "code",
   "execution_count": 246,
   "metadata": {},
   "outputs": [
    {
     "data": {
      "image/png": "[encoded data removed]",
      "text/plain": [
       "<Figure size 432x288 with 1 Axes>"
      ]
     },
     "metadata": {
      "needs_background": "light"
     },
     "output_type": "display_data"
    }
   ],
   "source": [
    "sns.barplot(x='species',y='petal_length',data=df)\n",
    "plt.show()"
   ]
  },
  {
   "cell_type": "code",
   "execution_count": 247,
   "metadata": {},
   "outputs": [
    {
     "data": {
      "image/png": "[encoded data removed]",
      "text/plain": [
       "<Figure size 432x288 with 1 Axes>"
      ]
     },
     "metadata": {
      "needs_background": "light"
     },
     "output_type": "display_data"
    }
   ],
   "source": [
    "sns.barplot(x='species',y='petal_width',data=df)\n",
    "plt.show()"
   ]
  },
  {
   "cell_type": "code",
   "execution_count": 248,
   "metadata": {},
   "outputs": [
    {
     "data": {
      "image/png": "[encoded data removed]",
      "text/plain": [
       "<Figure size 432x288 with 1 Axes>"
      ]
     },
     "metadata": {
      "needs_background": "light"
     },
     "output_type": "display_data"
    }
   ],
   "source": [
    "plt.hist(df['sepal_length'],bins=10)\n",
    "plt.title('Sepal_lenght histogram')\n",
    "plt.show()"
   ]
  },
  {
   "cell_type": "code",
   "execution_count": 249,
   "metadata": {},
   "outputs": [
    {
     "data": {
      "image/png": "[encoded data removed]",
      "text/plain": [
       "<Figure size 432x288 with 1 Axes>"
      ]
     },
     "metadata": {
      "needs_background": "light"
     },
     "output_type": "display_data"
    }
   ],
   "source": [
    "plt.hist(df['petal_length'],bins=10)\n",
    "plt.title('Petal_lenght histogram')\n",
    "plt.show()"
   ]
  },
  {
   "cell_type": "code",
   "execution_count": 250,
   "metadata": {},
   "outputs": [
    {
     "data": {
      "text/plain": [
       "<matplotlib.axes._subplots.AxesSubplot at 0x1335cdaff48>"
      ]
     },
     "execution_count": 250,
     "metadata": {},
     "output_type": "execute_result"
    },
    {
     "data": {
      "image/png": "[encoded data removed]",
      "text/plain": [
       "<Figure size 432x288 with 1 Axes>"
      ]
     },
     "metadata": {
      "needs_background": "light"
     },
     "output_type": "display_data"
    }
   ],
   "source": [
    "df['petal_width'].plot.hist(bins=10)"
   ]
  },
  {
   "cell_type": "code",
   "execution_count": 251,
   "metadata": {},
   "outputs": [
    {
     "data": {
      "text/plain": [
       "<matplotlib.axes._subplots.AxesSubplot at 0x1335ce2c6c8>"
      ]
     },
     "execution_count": 251,
     "metadata": {},
     "output_type": "execute_result"
    },
    {
     "data": {
      "image/png": "[encoded data removed]",
      "text/plain": [
       "<Figure size 432x288 with 1 Axes>"
      ]
     },
     "metadata": {
      "needs_background": "light"
     },
     "output_type": "display_data"
    }
   ],
   "source": [
    "df['sepal_width'].plot.hist(bins=10)"
   ]
  },
  {
   "cell_type": "code",
   "execution_count": 252,
   "metadata": {},
   "outputs": [
    {
     "data": {
      "text/plain": [
       "sepal_length    0\n",
       "sepal_width     0\n",
       "petal_length    0\n",
       "petal_width     0\n",
       "species         0\n",
       "dtype: int64"
      ]
     },
     "execution_count": 252,
     "metadata": {},
     "output_type": "execute_result"
    }
   ],
   "source": [
    "df.isnull().sum() #no null values present in iris data set"
   ]
  },
  {
   "cell_type": "code",
   "execution_count": 253,
   "metadata": {},
   "outputs": [
    {
     "data": {
      "text/plain": [
       "<matplotlib.axes._subplots.AxesSubplot at 0x1335ce9d188>"
      ]
     },
     "execution_count": 253,
     "metadata": {},
     "output_type": "execute_result"
    },
    {
     "data": {
      "image/png": "[encoded data removed]",
      "text/plain": [
       "<Figure size 432x288 with 2 Axes>"
      ]
     },
     "metadata": {
      "needs_background": "light"
     },
     "output_type": "display_data"
    }
   ],
   "source": [
    "sns.heatmap(df.isnull()) # checking outlier using heatmap-----no outlier present"
   ]
  },
  {
   "cell_type": "code",
   "execution_count": 254,
   "metadata": {},
   "outputs": [
    {
     "data": {
      "text/html": [
       "<div>\n",
       "<style scoped>\n",
       "    .dataframe tbody tr th:only-of-type {\n",
       "        vertical-align: middle;\n",
       "    }\n",
       "\n",
       "    .dataframe tbody tr th {\n",
       "        vertical-align: top;\n",
       "    }\n",
       "\n",
       "    .dataframe thead th {\n",
       "        text-align: right;\n",
       "    }\n",
       "</style>\n",
       "<table border=\"1\" class=\"dataframe\">\n",
       "  <thead>\n",
       "    <tr style=\"text-align: right;\">\n",
       "      <th></th>\n",
       "      <th>sepal_length</th>\n",
       "      <th>sepal_width</th>\n",
       "      <th>petal_length</th>\n",
       "      <th>petal_width</th>\n",
       "      <th>species</th>\n",
       "    </tr>\n",
       "  </thead>\n",
       "  <tbody>\n",
       "    <tr>\n",
       "      <td>sepal_length</td>\n",
       "      <td>1.000000</td>\n",
       "      <td>-0.117570</td>\n",
       "      <td>0.871754</td>\n",
       "      <td>0.817941</td>\n",
       "      <td>0.782561</td>\n",
       "    </tr>\n",
       "    <tr>\n",
       "      <td>sepal_width</td>\n",
       "      <td>-0.117570</td>\n",
       "      <td>1.000000</td>\n",
       "      <td>-0.428440</td>\n",
       "      <td>-0.366126</td>\n",
       "      <td>-0.426658</td>\n",
       "    </tr>\n",
       "    <tr>\n",
       "      <td>petal_length</td>\n",
       "      <td>0.871754</td>\n",
       "      <td>-0.428440</td>\n",
       "      <td>1.000000</td>\n",
       "      <td>0.962865</td>\n",
       "      <td>0.949035</td>\n",
       "    </tr>\n",
       "    <tr>\n",
       "      <td>petal_width</td>\n",
       "      <td>0.817941</td>\n",
       "      <td>-0.366126</td>\n",
       "      <td>0.962865</td>\n",
       "      <td>1.000000</td>\n",
       "      <td>0.956547</td>\n",
       "    </tr>\n",
       "    <tr>\n",
       "      <td>species</td>\n",
       "      <td>0.782561</td>\n",
       "      <td>-0.426658</td>\n",
       "      <td>0.949035</td>\n",
       "      <td>0.956547</td>\n",
       "      <td>1.000000</td>\n",
       "    </tr>\n",
       "  </tbody>\n",
       "</table>\n",
       "</div>"
      ],
      "text/plain": [
       "              sepal_length  sepal_width  petal_length  petal_width   species\n",
       "sepal_length      1.000000    -0.117570      0.871754     0.817941  0.782561\n",
       "sepal_width      -0.117570     1.000000     -0.428440    -0.366126 -0.426658\n",
       "petal_length      0.871754    -0.428440      1.000000     0.962865  0.949035\n",
       "petal_width       0.817941    -0.366126      0.962865     1.000000  0.956547\n",
       "species           0.782561    -0.426658      0.949035     0.956547  1.000000"
      ]
     },
     "execution_count": 254,
     "metadata": {},
     "output_type": "execute_result"
    }
   ],
   "source": [
    "dfcor=df.corr()  #checking data is correlated or not\n",
    "dfcor\n"
   ]
  },
  {
   "cell_type": "code",
   "execution_count": 255,
   "metadata": {},
   "outputs": [
    {
     "data": {
      "text/plain": [
       "<matplotlib.axes._subplots.AxesSubplot at 0x1335cf91948>"
      ]
     },
     "execution_count": 255,
     "metadata": {},
     "output_type": "execute_result"
    },
    {
     "data": {
      "image/png": "[encoded data removed]",
      "text/plain": [
       "<Figure size 432x288 with 2 Axes>"
      ]
     },
     "metadata": {
      "needs_background": "light"
     },
     "output_type": "display_data"
    }
   ],
   "source": [
    "sns.heatmap(df.corr(),annot=True) #data is highly correlated"
   ]
  },
  {
   "cell_type": "code",
   "execution_count": 256,
   "metadata": {},
   "outputs": [
    {
     "data": {
      "text/plain": [
       "<seaborn.axisgrid.PairGrid at 0x1335cf8aac8>"
      ]
     },
     "execution_count": 256,
     "metadata": {},
     "output_type": "execute_result"
    },
    {
     "data": {
      "image/png": "[encoded data removed]",
      "text/plain": [
       "<Figure size 900x900 with 30 Axes>"
      ]
     },
     "metadata": {
      "needs_background": "light"
     },
     "output_type": "display_data"
    }
   ],
   "source": [
    "sns.pairplot(data=df)"
   ]
  },
  {
   "cell_type": "code",
   "execution_count": 257,
   "metadata": {},
   "outputs": [
    {
     "data": {
      "text/html": [
       "<div>\n",
       "<style scoped>\n",
       "    .dataframe tbody tr th:only-of-type {\n",
       "        vertical-align: middle;\n",
       "    }\n",
       "\n",
       "    .dataframe tbody tr th {\n",
       "        vertical-align: top;\n",
       "    }\n",
       "\n",
       "    .dataframe thead th {\n",
       "        text-align: right;\n",
       "    }\n",
       "</style>\n",
       "<table border=\"1\" class=\"dataframe\">\n",
       "  <thead>\n",
       "    <tr style=\"text-align: right;\">\n",
       "      <th></th>\n",
       "      <th>sepal_length</th>\n",
       "      <th>sepal_width</th>\n",
       "      <th>petal_length</th>\n",
       "      <th>petal_width</th>\n",
       "    </tr>\n",
       "  </thead>\n",
       "  <tbody>\n",
       "    <tr>\n",
       "      <td>0</td>\n",
       "      <td>5.1</td>\n",
       "      <td>3.5</td>\n",
       "      <td>1.4</td>\n",
       "      <td>0.2</td>\n",
       "    </tr>\n",
       "    <tr>\n",
       "      <td>1</td>\n",
       "      <td>4.9</td>\n",
       "      <td>3.0</td>\n",
       "      <td>1.4</td>\n",
       "      <td>0.2</td>\n",
       "    </tr>\n",
       "    <tr>\n",
       "      <td>2</td>\n",
       "      <td>4.7</td>\n",
       "      <td>3.2</td>\n",
       "      <td>1.3</td>\n",
       "      <td>0.2</td>\n",
       "    </tr>\n",
       "    <tr>\n",
       "      <td>3</td>\n",
       "      <td>4.6</td>\n",
       "      <td>3.1</td>\n",
       "      <td>1.5</td>\n",
       "      <td>0.2</td>\n",
       "    </tr>\n",
       "    <tr>\n",
       "      <td>4</td>\n",
       "      <td>5.0</td>\n",
       "      <td>3.6</td>\n",
       "      <td>1.4</td>\n",
       "      <td>0.2</td>\n",
       "    </tr>\n",
       "    <tr>\n",
       "      <td>...</td>\n",
       "      <td>...</td>\n",
       "      <td>...</td>\n",
       "      <td>...</td>\n",
       "      <td>...</td>\n",
       "    </tr>\n",
       "    <tr>\n",
       "      <td>145</td>\n",
       "      <td>6.7</td>\n",
       "      <td>3.0</td>\n",
       "      <td>5.2</td>\n",
       "      <td>2.3</td>\n",
       "    </tr>\n",
       "    <tr>\n",
       "      <td>146</td>\n",
       "      <td>6.3</td>\n",
       "      <td>2.5</td>\n",
       "      <td>5.0</td>\n",
       "      <td>1.9</td>\n",
       "    </tr>\n",
       "    <tr>\n",
       "      <td>147</td>\n",
       "      <td>6.5</td>\n",
       "      <td>3.0</td>\n",
       "      <td>5.2</td>\n",
       "      <td>2.0</td>\n",
       "    </tr>\n",
       "    <tr>\n",
       "      <td>148</td>\n",
       "      <td>6.2</td>\n",
       "      <td>3.4</td>\n",
       "      <td>5.4</td>\n",
       "      <td>2.3</td>\n",
       "    </tr>\n",
       "    <tr>\n",
       "      <td>149</td>\n",
       "      <td>5.9</td>\n",
       "      <td>3.0</td>\n",
       "      <td>5.1</td>\n",
       "      <td>1.8</td>\n",
       "    </tr>\n",
       "  </tbody>\n",
       "</table>\n",
       "<p>150 rows × 4 columns</p>\n",
       "</div>"
      ],
      "text/plain": [
       "     sepal_length  sepal_width  petal_length  petal_width\n",
       "0             5.1          3.5           1.4          0.2\n",
       "1             4.9          3.0           1.4          0.2\n",
       "2             4.7          3.2           1.3          0.2\n",
       "3             4.6          3.1           1.5          0.2\n",
       "4             5.0          3.6           1.4          0.2\n",
       "..            ...          ...           ...          ...\n",
       "145           6.7          3.0           5.2          2.3\n",
       "146           6.3          2.5           5.0          1.9\n",
       "147           6.5          3.0           5.2          2.0\n",
       "148           6.2          3.4           5.4          2.3\n",
       "149           5.9          3.0           5.1          1.8\n",
       "\n",
       "[150 rows x 4 columns]"
      ]
     },
     "execution_count": 257,
     "metadata": {},
     "output_type": "execute_result"
    }
   ],
   "source": [
    "#scaling of data ensure that all data in a dataset falls in the same range\n",
    "x=df.iloc[:,0:4]\n",
    "x"
   ]
  },
  {
   "cell_type": "code",
   "execution_count": 258,
   "metadata": {},
   "outputs": [
    {
     "data": {
      "text/plain": [
       "array([0, 0, 0, 0, 0, 0, 0, 0, 0, 0, 0, 0, 0, 0, 0, 0, 0, 0, 0, 0, 0, 0,\n",
       "       0, 0, 0, 0, 0, 0, 0, 0, 0, 0, 0, 0, 0, 0, 0, 0, 0, 0, 0, 0, 0, 0,\n",
       "       0, 0, 0, 0, 0, 0, 1, 1, 1, 1, 1, 1, 1, 1, 1, 1, 1, 1, 1, 1, 1, 1,\n",
       "       1, 1, 1, 1, 1, 1, 1, 1, 1, 1, 1, 1, 1, 1, 1, 1, 1, 1, 1, 1, 1, 1,\n",
       "       1, 1, 1, 1, 1, 1, 1, 1, 1, 1, 1, 1, 2, 2, 2, 2, 2, 2, 2, 2, 2, 2,\n",
       "       2, 2, 2, 2, 2, 2, 2, 2, 2, 2, 2, 2, 2, 2, 2, 2, 2, 2, 2, 2, 2, 2,\n",
       "       2, 2, 2, 2, 2, 2, 2, 2, 2, 2, 2, 2, 2, 2, 2, 2, 2, 2])"
      ]
     },
     "execution_count": 258,
     "metadata": {},
     "output_type": "execute_result"
    }
   ],
   "source": [
    "y=df.iloc[:,-1].values\n",
    "y"
   ]
  },
  {
   "cell_type": "code",
   "execution_count": 259,
   "metadata": {},
   "outputs": [],
   "source": [
    "y=y.astype('int')"
   ]
  },
  {
   "cell_type": "code",
   "execution_count": 260,
   "metadata": {},
   "outputs": [
    {
     "data": {
      "text/plain": [
       "(150, 4)"
      ]
     },
     "execution_count": 260,
     "metadata": {},
     "output_type": "execute_result"
    }
   ],
   "source": [
    "x.shape #data in 2D"
   ]
  },
  {
   "cell_type": "code",
   "execution_count": 261,
   "metadata": {},
   "outputs": [
    {
     "data": {
      "text/plain": [
       "(150,)"
      ]
     },
     "execution_count": 261,
     "metadata": {},
     "output_type": "execute_result"
    }
   ],
   "source": [
    "y.shape #data in 1D"
   ]
  },
  {
   "cell_type": "code",
   "execution_count": 262,
   "metadata": {},
   "outputs": [],
   "source": [
    "\n",
    "#y=y.reshape(-1,1) #make y data in 2D\n",
    "#y.shape\n"
   ]
  },
  {
   "cell_type": "code",
   "execution_count": 263,
   "metadata": {},
   "outputs": [],
   "source": [
    "#from sklearn.preprocessing import StandardScaler\n",
    "#ss=StandardScaler()"
   ]
  },
  {
   "cell_type": "code",
   "execution_count": 264,
   "metadata": {},
   "outputs": [],
   "source": [
    "#x=ss.fit_transform(x)\n",
    "#x"
   ]
  },
  {
   "cell_type": "code",
   "execution_count": 265,
   "metadata": {},
   "outputs": [],
   "source": [
    "#y=ss.fit_transform(y)\n",
    "#y"
   ]
  },
  {
   "cell_type": "code",
   "execution_count": null,
   "metadata": {},
   "outputs": [],
   "source": []
  },
  {
   "cell_type": "code",
   "execution_count": null,
   "metadata": {},
   "outputs": [],
   "source": []
  },
  {
   "cell_type": "code",
   "execution_count": 266,
   "metadata": {},
   "outputs": [
    {
     "data": {
      "text/plain": [
       "array([[9.00681170e-01, 1.01900435e+00, 1.34022653e+00, 1.31544430e+00,\n",
       "        1.22474487e+00],\n",
       "       [1.14301691e+00, 1.31979479e-01, 1.34022653e+00, 1.31544430e+00,\n",
       "        1.22474487e+00],\n",
       "       [1.38535265e+00, 3.28414053e-01, 1.39706395e+00, 1.31544430e+00,\n",
       "        1.22474487e+00],\n",
       "       [1.50652052e+00, 9.82172869e-02, 1.28338910e+00, 1.31544430e+00,\n",
       "        1.22474487e+00],\n",
       "       [1.02184904e+00, 1.24920112e+00, 1.34022653e+00, 1.31544430e+00,\n",
       "        1.22474487e+00],\n",
       "       [5.37177559e-01, 1.93979142e+00, 1.16971425e+00, 1.05217993e+00,\n",
       "        1.22474487e+00],\n",
       "       [1.50652052e+00, 7.88807586e-01, 1.34022653e+00, 1.18381211e+00,\n",
       "        1.22474487e+00],\n",
       "       [1.02184904e+00, 7.88807586e-01, 1.28338910e+00, 1.31544430e+00,\n",
       "        1.22474487e+00],\n",
       "       [1.74885626e+00, 3.62176246e-01, 1.34022653e+00, 1.31544430e+00,\n",
       "        1.22474487e+00],\n",
       "       [1.14301691e+00, 9.82172869e-02, 1.28338910e+00, 1.44707648e+00,\n",
       "        1.22474487e+00],\n",
       "       [5.37177559e-01, 1.47939788e+00, 1.28338910e+00, 1.31544430e+00,\n",
       "        1.22474487e+00],\n",
       "       [1.26418478e+00, 7.88807586e-01, 1.22655167e+00, 1.31544430e+00,\n",
       "        1.22474487e+00],\n",
       "       [1.26418478e+00, 1.31979479e-01, 1.34022653e+00, 1.44707648e+00,\n",
       "        1.22474487e+00],\n",
       "       [1.87002413e+00, 1.31979479e-01, 1.51073881e+00, 1.44707648e+00,\n",
       "        1.22474487e+00],\n",
       "       [5.25060772e-02, 2.16998818e+00, 1.45390138e+00, 1.31544430e+00,\n",
       "        1.22474487e+00],\n",
       "       [1.73673948e-01, 3.09077525e+00, 1.28338910e+00, 1.05217993e+00,\n",
       "        1.22474487e+00],\n",
       "       [5.37177559e-01, 1.93979142e+00, 1.39706395e+00, 1.05217993e+00,\n",
       "        1.22474487e+00],\n",
       "       [9.00681170e-01, 1.01900435e+00, 1.34022653e+00, 1.18381211e+00,\n",
       "        1.22474487e+00],\n",
       "       [1.73673948e-01, 1.70959465e+00, 1.16971425e+00, 1.18381211e+00,\n",
       "        1.22474487e+00],\n",
       "       [9.00681170e-01, 1.70959465e+00, 1.28338910e+00, 1.18381211e+00,\n",
       "        1.22474487e+00],\n",
       "       [5.37177559e-01, 7.88807586e-01, 1.16971425e+00, 1.31544430e+00,\n",
       "        1.22474487e+00],\n",
       "       [9.00681170e-01, 1.47939788e+00, 1.28338910e+00, 1.05217993e+00,\n",
       "        1.22474487e+00],\n",
       "       [1.50652052e+00, 1.24920112e+00, 1.56757623e+00, 1.31544430e+00,\n",
       "        1.22474487e+00],\n",
       "       [9.00681170e-01, 5.58610819e-01, 1.16971425e+00, 9.20547742e-01,\n",
       "        1.22474487e+00],\n",
       "       [1.26418478e+00, 7.88807586e-01, 1.05603939e+00, 1.31544430e+00,\n",
       "        1.22474487e+00],\n",
       "       [1.02184904e+00, 1.31979479e-01, 1.22655167e+00, 1.31544430e+00,\n",
       "        1.22474487e+00],\n",
       "       [1.02184904e+00, 7.88807586e-01, 1.22655167e+00, 1.05217993e+00,\n",
       "        1.22474487e+00],\n",
       "       [7.79513300e-01, 1.01900435e+00, 1.28338910e+00, 1.31544430e+00,\n",
       "        1.22474487e+00],\n",
       "       [7.79513300e-01, 7.88807586e-01, 1.34022653e+00, 1.31544430e+00,\n",
       "        1.22474487e+00],\n",
       "       [1.38535265e+00, 3.28414053e-01, 1.22655167e+00, 1.31544430e+00,\n",
       "        1.22474487e+00],\n",
       "       [1.26418478e+00, 9.82172869e-02, 1.22655167e+00, 1.31544430e+00,\n",
       "        1.22474487e+00],\n",
       "       [5.37177559e-01, 7.88807586e-01, 1.28338910e+00, 1.05217993e+00,\n",
       "        1.22474487e+00],\n",
       "       [7.79513300e-01, 2.40018495e+00, 1.28338910e+00, 1.44707648e+00,\n",
       "        1.22474487e+00],\n",
       "       [4.16009689e-01, 2.63038172e+00, 1.34022653e+00, 1.31544430e+00,\n",
       "        1.22474487e+00],\n",
       "       [1.14301691e+00, 9.82172869e-02, 1.28338910e+00, 1.31544430e+00,\n",
       "        1.22474487e+00],\n",
       "       [1.02184904e+00, 3.28414053e-01, 1.45390138e+00, 1.31544430e+00,\n",
       "        1.22474487e+00],\n",
       "       [4.16009689e-01, 1.01900435e+00, 1.39706395e+00, 1.31544430e+00,\n",
       "        1.22474487e+00],\n",
       "       [1.14301691e+00, 1.24920112e+00, 1.34022653e+00, 1.44707648e+00,\n",
       "        1.22474487e+00],\n",
       "       [1.74885626e+00, 1.31979479e-01, 1.39706395e+00, 1.31544430e+00,\n",
       "        1.22474487e+00],\n",
       "       [9.00681170e-01, 7.88807586e-01, 1.28338910e+00, 1.31544430e+00,\n",
       "        1.22474487e+00],\n",
       "       [1.02184904e+00, 1.01900435e+00, 1.39706395e+00, 1.18381211e+00,\n",
       "        1.22474487e+00],\n",
       "       [1.62768839e+00, 1.74335684e+00, 1.39706395e+00, 1.18381211e+00,\n",
       "        1.22474487e+00],\n",
       "       [1.74885626e+00, 3.28414053e-01, 1.39706395e+00, 1.31544430e+00,\n",
       "        1.22474487e+00],\n",
       "       [1.02184904e+00, 1.01900435e+00, 1.22655167e+00, 7.88915558e-01,\n",
       "        1.22474487e+00],\n",
       "       [9.00681170e-01, 1.70959465e+00, 1.05603939e+00, 1.05217993e+00,\n",
       "        1.22474487e+00],\n",
       "       [1.26418478e+00, 1.31979479e-01, 1.34022653e+00, 1.18381211e+00,\n",
       "        1.22474487e+00],\n",
       "       [9.00681170e-01, 1.70959465e+00, 1.22655167e+00, 1.31544430e+00,\n",
       "        1.22474487e+00],\n",
       "       [1.50652052e+00, 3.28414053e-01, 1.34022653e+00, 1.31544430e+00,\n",
       "        1.22474487e+00],\n",
       "       [6.58345429e-01, 1.47939788e+00, 1.28338910e+00, 1.31544430e+00,\n",
       "        1.22474487e+00],\n",
       "       [1.02184904e+00, 5.58610819e-01, 1.34022653e+00, 1.31544430e+00,\n",
       "        1.22474487e+00],\n",
       "       [1.40150837e+00, 3.28414053e-01, 5.35408562e-01, 2.64141916e-01,\n",
       "        0.00000000e+00],\n",
       "       [6.74501145e-01, 3.28414053e-01, 4.21733708e-01, 3.95774101e-01,\n",
       "        0.00000000e+00],\n",
       "       [1.28034050e+00, 9.82172869e-02, 6.49083415e-01, 3.95774101e-01,\n",
       "        0.00000000e+00],\n",
       "       [4.16009689e-01, 1.74335684e+00, 1.37546573e-01, 1.32509732e-01,\n",
       "        0.00000000e+00],\n",
       "       [7.95669016e-01, 5.92373012e-01, 4.78571135e-01, 3.95774101e-01,\n",
       "        0.00000000e+00],\n",
       "       [1.73673948e-01, 5.92373012e-01, 4.21733708e-01, 1.32509732e-01,\n",
       "        0.00000000e+00],\n",
       "       [5.53333275e-01, 5.58610819e-01, 5.35408562e-01, 5.27406285e-01,\n",
       "        0.00000000e+00],\n",
       "       [1.14301691e+00, 1.51316008e+00, 2.60315415e-01, 2.62386821e-01,\n",
       "        0.00000000e+00],\n",
       "       [9.16836886e-01, 3.62176246e-01, 4.78571135e-01, 1.32509732e-01,\n",
       "        0.00000000e+00],\n",
       "       [7.79513300e-01, 8.22569778e-01, 8.07091462e-02, 2.64141916e-01,\n",
       "        0.00000000e+00],\n",
       "       [1.02184904e+00, 2.43394714e+00, 1.46640561e-01, 2.62386821e-01,\n",
       "        0.00000000e+00],\n",
       "       [6.86617933e-02, 1.31979479e-01, 2.51221427e-01, 3.95774101e-01,\n",
       "        0.00000000e+00],\n",
       "       [1.89829664e-01, 1.97355361e+00, 1.37546573e-01, 2.62386821e-01,\n",
       "        0.00000000e+00],\n",
       "       [3.10997534e-01, 3.62176246e-01, 5.35408562e-01, 2.64141916e-01,\n",
       "        0.00000000e+00],\n",
       "       [2.94841818e-01, 3.62176246e-01, 8.98031345e-02, 1.32509732e-01,\n",
       "        0.00000000e+00],\n",
       "       [1.03800476e+00, 9.82172869e-02, 3.64896281e-01, 2.64141916e-01,\n",
       "        0.00000000e+00],\n",
       "       [2.94841818e-01, 1.31979479e-01, 4.21733708e-01, 3.95774101e-01,\n",
       "        0.00000000e+00],\n",
       "       [5.25060772e-02, 8.22569778e-01, 1.94384000e-01, 2.62386821e-01,\n",
       "        0.00000000e+00],\n",
       "       [4.32165405e-01, 1.97355361e+00, 4.21733708e-01, 3.95774101e-01,\n",
       "        0.00000000e+00],\n",
       "       [2.94841818e-01, 1.28296331e+00, 8.07091462e-02, 1.30754636e-01,\n",
       "        0.00000000e+00],\n",
       "       [6.86617933e-02, 3.28414053e-01, 5.92245988e-01, 7.90670654e-01,\n",
       "        0.00000000e+00],\n",
       "       [3.10997534e-01, 5.92373012e-01, 1.37546573e-01, 1.32509732e-01,\n",
       "        0.00000000e+00],\n",
       "       [5.53333275e-01, 1.28296331e+00, 6.49083415e-01, 3.95774101e-01,\n",
       "        0.00000000e+00],\n",
       "       [3.10997534e-01, 5.92373012e-01, 5.35408562e-01, 8.77547895e-04,\n",
       "        0.00000000e+00],\n",
       "       [6.74501145e-01, 3.62176246e-01, 3.08058854e-01, 1.32509732e-01,\n",
       "        0.00000000e+00],\n",
       "       [9.16836886e-01, 1.31979479e-01, 3.64896281e-01, 2.64141916e-01,\n",
       "        0.00000000e+00],\n",
       "       [1.15917263e+00, 5.92373012e-01, 5.92245988e-01, 2.64141916e-01,\n",
       "        0.00000000e+00],\n",
       "       [1.03800476e+00, 1.31979479e-01, 7.05920842e-01, 6.59038469e-01,\n",
       "        0.00000000e+00],\n",
       "       [1.89829664e-01, 3.62176246e-01, 4.21733708e-01, 3.95774101e-01,\n",
       "        0.00000000e+00],\n",
       "       [1.73673948e-01, 1.05276654e+00, 1.46640561e-01, 2.62386821e-01,\n",
       "        0.00000000e+00],\n",
       "       [4.16009689e-01, 1.51316008e+00, 2.38717193e-02, 1.30754636e-01,\n",
       "        0.00000000e+00],\n",
       "       [4.16009689e-01, 1.51316008e+00, 3.29657076e-02, 2.62386821e-01,\n",
       "        0.00000000e+00],\n",
       "       [5.25060772e-02, 8.22569778e-01, 8.07091462e-02, 8.77547895e-04,\n",
       "        0.00000000e+00],\n",
       "       [1.89829664e-01, 8.22569778e-01, 7.62758269e-01, 5.27406285e-01,\n",
       "        0.00000000e+00],\n",
       "       [5.37177559e-01, 1.31979479e-01, 4.21733708e-01, 3.95774101e-01,\n",
       "        0.00000000e+00],\n",
       "       [1.89829664e-01, 7.88807586e-01, 4.21733708e-01, 5.27406285e-01,\n",
       "        0.00000000e+00],\n",
       "       [1.03800476e+00, 9.82172869e-02, 5.35408562e-01, 3.95774101e-01,\n",
       "        0.00000000e+00],\n",
       "       [5.53333275e-01, 1.74335684e+00, 3.64896281e-01, 1.32509732e-01,\n",
       "        0.00000000e+00],\n",
       "       [2.94841818e-01, 1.31979479e-01, 1.94384000e-01, 1.32509732e-01,\n",
       "        0.00000000e+00],\n",
       "       [4.16009689e-01, 1.28296331e+00, 1.37546573e-01, 1.32509732e-01,\n",
       "        0.00000000e+00],\n",
       "       [4.16009689e-01, 1.05276654e+00, 3.64896281e-01, 8.77547895e-04,\n",
       "        0.00000000e+00],\n",
       "       [3.10997534e-01, 1.31979479e-01, 4.78571135e-01, 2.64141916e-01,\n",
       "        0.00000000e+00],\n",
       "       [5.25060772e-02, 1.05276654e+00, 1.37546573e-01, 8.77547895e-04,\n",
       "        0.00000000e+00],\n",
       "       [1.02184904e+00, 1.74335684e+00, 2.60315415e-01, 2.62386821e-01,\n",
       "        0.00000000e+00],\n",
       "       [2.94841818e-01, 8.22569778e-01, 2.51221427e-01, 1.32509732e-01,\n",
       "        0.00000000e+00],\n",
       "       [1.73673948e-01, 1.31979479e-01, 2.51221427e-01, 8.77547895e-04,\n",
       "        0.00000000e+00],\n",
       "       [1.73673948e-01, 3.62176246e-01, 2.51221427e-01, 1.32509732e-01,\n",
       "        0.00000000e+00],\n",
       "       [4.32165405e-01, 3.62176246e-01, 3.08058854e-01, 1.32509732e-01,\n",
       "        0.00000000e+00],\n",
       "       [9.00681170e-01, 1.28296331e+00, 4.30827696e-01, 1.30754636e-01,\n",
       "        0.00000000e+00],\n",
       "       [1.73673948e-01, 5.92373012e-01, 1.94384000e-01, 1.32509732e-01,\n",
       "        0.00000000e+00],\n",
       "       [5.53333275e-01, 5.58610819e-01, 1.27429511e+00, 1.71209594e+00,\n",
       "        1.22474487e+00],\n",
       "       [5.25060772e-02, 8.22569778e-01, 7.62758269e-01, 9.22302838e-01,\n",
       "        1.22474487e+00],\n",
       "       [1.52267624e+00, 1.31979479e-01, 1.21745768e+00, 1.18556721e+00,\n",
       "        1.22474487e+00],\n",
       "       [5.53333275e-01, 3.62176246e-01, 1.04694540e+00, 7.90670654e-01,\n",
       "        1.22474487e+00],\n",
       "       [7.95669016e-01, 1.31979479e-01, 1.16062026e+00, 1.31719939e+00,\n",
       "        1.22474487e+00],\n",
       "       [2.12851559e+00, 1.31979479e-01, 1.61531967e+00, 1.18556721e+00,\n",
       "        1.22474487e+00],\n",
       "       [1.14301691e+00, 1.28296331e+00, 4.21733708e-01, 6.59038469e-01,\n",
       "        1.22474487e+00],\n",
       "       [1.76501198e+00, 3.62176246e-01, 1.44480739e+00, 7.90670654e-01,\n",
       "        1.22474487e+00],\n",
       "       [1.03800476e+00, 1.28296331e+00, 1.16062026e+00, 7.90670654e-01,\n",
       "        1.22474487e+00],\n",
       "       [1.64384411e+00, 1.24920112e+00, 1.33113254e+00, 1.71209594e+00,\n",
       "        1.22474487e+00],\n",
       "       [7.95669016e-01, 3.28414053e-01, 7.62758269e-01, 1.05393502e+00,\n",
       "        1.22474487e+00],\n",
       "       [6.74501145e-01, 8.22569778e-01, 8.76433123e-01, 9.22302838e-01,\n",
       "        1.22474487e+00],\n",
       "       [1.15917263e+00, 1.31979479e-01, 9.90107977e-01, 1.18556721e+00,\n",
       "        1.22474487e+00],\n",
       "       [1.73673948e-01, 1.28296331e+00, 7.05920842e-01, 1.05393502e+00,\n",
       "        1.22474487e+00],\n",
       "       [5.25060772e-02, 5.92373012e-01, 7.62758269e-01, 1.58046376e+00,\n",
       "        1.22474487e+00],\n",
       "       [6.74501145e-01, 3.28414053e-01, 8.76433123e-01, 1.44883158e+00,\n",
       "        1.22474487e+00],\n",
       "       [7.95669016e-01, 1.31979479e-01, 9.90107977e-01, 7.90670654e-01,\n",
       "        1.22474487e+00],\n",
       "       [2.24968346e+00, 1.70959465e+00, 1.67215710e+00, 1.31719939e+00,\n",
       "        1.22474487e+00],\n",
       "       [2.24968346e+00, 1.05276654e+00, 1.78583195e+00, 1.44883158e+00,\n",
       "        1.22474487e+00],\n",
       "       [1.89829664e-01, 1.97355361e+00, 7.05920842e-01, 3.95774101e-01,\n",
       "        1.22474487e+00],\n",
       "       [1.28034050e+00, 3.28414053e-01, 1.10378283e+00, 1.44883158e+00,\n",
       "        1.22474487e+00],\n",
       "       [2.94841818e-01, 5.92373012e-01, 6.49083415e-01, 1.05393502e+00,\n",
       "        1.22474487e+00],\n",
       "       [2.24968346e+00, 5.92373012e-01, 1.67215710e+00, 1.05393502e+00,\n",
       "        1.22474487e+00],\n",
       "       [5.53333275e-01, 8.22569778e-01, 6.49083415e-01, 7.90670654e-01,\n",
       "        1.22474487e+00],\n",
       "       [1.03800476e+00, 5.58610819e-01, 1.10378283e+00, 1.18556721e+00,\n",
       "        1.22474487e+00],\n",
       "       [1.64384411e+00, 3.28414053e-01, 1.27429511e+00, 7.90670654e-01,\n",
       "        1.22474487e+00],\n",
       "       [4.32165405e-01, 5.92373012e-01, 5.92245988e-01, 7.90670654e-01,\n",
       "        1.22474487e+00],\n",
       "       [3.10997534e-01, 1.31979479e-01, 6.49083415e-01, 7.90670654e-01,\n",
       "        1.22474487e+00],\n",
       "       [6.74501145e-01, 5.92373012e-01, 1.04694540e+00, 1.18556721e+00,\n",
       "        1.22474487e+00],\n",
       "       [1.64384411e+00, 1.31979479e-01, 1.16062026e+00, 5.27406285e-01,\n",
       "        1.22474487e+00],\n",
       "       [1.88617985e+00, 5.92373012e-01, 1.33113254e+00, 9.22302838e-01,\n",
       "        1.22474487e+00],\n",
       "       [2.49201920e+00, 1.70959465e+00, 1.50164482e+00, 1.05393502e+00,\n",
       "        1.22474487e+00],\n",
       "       [6.74501145e-01, 5.92373012e-01, 1.04694540e+00, 1.31719939e+00,\n",
       "        1.22474487e+00],\n",
       "       [5.53333275e-01, 5.92373012e-01, 7.62758269e-01, 3.95774101e-01,\n",
       "        1.22474487e+00],\n",
       "       [3.10997534e-01, 1.05276654e+00, 1.04694540e+00, 2.64141916e-01,\n",
       "        1.22474487e+00],\n",
       "       [2.24968346e+00, 1.31979479e-01, 1.33113254e+00, 1.44883158e+00,\n",
       "        1.22474487e+00],\n",
       "       [5.53333275e-01, 7.88807586e-01, 1.04694540e+00, 1.58046376e+00,\n",
       "        1.22474487e+00],\n",
       "       [6.74501145e-01, 9.82172869e-02, 9.90107977e-01, 7.90670654e-01,\n",
       "        1.22474487e+00],\n",
       "       [1.89829664e-01, 1.31979479e-01, 5.92245988e-01, 7.90670654e-01,\n",
       "        1.22474487e+00],\n",
       "       [1.28034050e+00, 9.82172869e-02, 9.33270550e-01, 1.18556721e+00,\n",
       "        1.22474487e+00],\n",
       "       [1.03800476e+00, 9.82172869e-02, 1.04694540e+00, 1.58046376e+00,\n",
       "        1.22474487e+00],\n",
       "       [1.28034050e+00, 9.82172869e-02, 7.62758269e-01, 1.44883158e+00,\n",
       "        1.22474487e+00],\n",
       "       [5.25060772e-02, 8.22569778e-01, 7.62758269e-01, 9.22302838e-01,\n",
       "        1.22474487e+00],\n",
       "       [1.15917263e+00, 3.28414053e-01, 1.21745768e+00, 1.44883158e+00,\n",
       "        1.22474487e+00],\n",
       "       [1.03800476e+00, 5.58610819e-01, 1.10378283e+00, 1.71209594e+00,\n",
       "        1.22474487e+00],\n",
       "       [1.03800476e+00, 1.31979479e-01, 8.19595696e-01, 1.44883158e+00,\n",
       "        1.22474487e+00],\n",
       "       [5.53333275e-01, 1.28296331e+00, 7.05920842e-01, 9.22302838e-01,\n",
       "        1.22474487e+00],\n",
       "       [7.95669016e-01, 1.31979479e-01, 8.19595696e-01, 1.05393502e+00,\n",
       "        1.22474487e+00],\n",
       "       [4.32165405e-01, 7.88807586e-01, 9.33270550e-01, 1.44883158e+00,\n",
       "        1.22474487e+00],\n",
       "       [6.86617933e-02, 1.31979479e-01, 7.62758269e-01, 7.90670654e-01,\n",
       "        1.22474487e+00]])"
      ]
     },
     "execution_count": 266,
     "metadata": {},
     "output_type": "execute_result"
    }
   ],
   "source": [
    "#remove outlier\n",
    "from scipy.stats import zscore\n",
    "z=np.abs(zscore(df))\n",
    "z\n",
    "\n"
   ]
  },
  {
   "cell_type": "code",
   "execution_count": 267,
   "metadata": {},
   "outputs": [
    {
     "name": "stdout",
     "output_type": "stream",
     "text": [
      "(array([15], dtype=int64), array([1], dtype=int64))\n"
     ]
    }
   ],
   "source": [
    "threshold=3\n",
    "print(np.where(z>3))\n"
   ]
  },
  {
   "cell_type": "code",
   "execution_count": 268,
   "metadata": {},
   "outputs": [
    {
     "data": {
      "text/html": [
       "<div>\n",
       "<style scoped>\n",
       "    .dataframe tbody tr th:only-of-type {\n",
       "        vertical-align: middle;\n",
       "    }\n",
       "\n",
       "    .dataframe tbody tr th {\n",
       "        vertical-align: top;\n",
       "    }\n",
       "\n",
       "    .dataframe thead th {\n",
       "        text-align: right;\n",
       "    }\n",
       "</style>\n",
       "<table border=\"1\" class=\"dataframe\">\n",
       "  <thead>\n",
       "    <tr style=\"text-align: right;\">\n",
       "      <th></th>\n",
       "      <th>sepal_length</th>\n",
       "      <th>sepal_width</th>\n",
       "      <th>petal_length</th>\n",
       "      <th>petal_width</th>\n",
       "      <th>species</th>\n",
       "    </tr>\n",
       "  </thead>\n",
       "  <tbody>\n",
       "    <tr>\n",
       "      <td>0</td>\n",
       "      <td>5.1</td>\n",
       "      <td>3.5</td>\n",
       "      <td>1.4</td>\n",
       "      <td>0.2</td>\n",
       "      <td>0</td>\n",
       "    </tr>\n",
       "    <tr>\n",
       "      <td>1</td>\n",
       "      <td>4.9</td>\n",
       "      <td>3.0</td>\n",
       "      <td>1.4</td>\n",
       "      <td>0.2</td>\n",
       "      <td>0</td>\n",
       "    </tr>\n",
       "    <tr>\n",
       "      <td>2</td>\n",
       "      <td>4.7</td>\n",
       "      <td>3.2</td>\n",
       "      <td>1.3</td>\n",
       "      <td>0.2</td>\n",
       "      <td>0</td>\n",
       "    </tr>\n",
       "    <tr>\n",
       "      <td>3</td>\n",
       "      <td>4.6</td>\n",
       "      <td>3.1</td>\n",
       "      <td>1.5</td>\n",
       "      <td>0.2</td>\n",
       "      <td>0</td>\n",
       "    </tr>\n",
       "    <tr>\n",
       "      <td>4</td>\n",
       "      <td>5.0</td>\n",
       "      <td>3.6</td>\n",
       "      <td>1.4</td>\n",
       "      <td>0.2</td>\n",
       "      <td>0</td>\n",
       "    </tr>\n",
       "    <tr>\n",
       "      <td>...</td>\n",
       "      <td>...</td>\n",
       "      <td>...</td>\n",
       "      <td>...</td>\n",
       "      <td>...</td>\n",
       "      <td>...</td>\n",
       "    </tr>\n",
       "    <tr>\n",
       "      <td>145</td>\n",
       "      <td>6.7</td>\n",
       "      <td>3.0</td>\n",
       "      <td>5.2</td>\n",
       "      <td>2.3</td>\n",
       "      <td>2</td>\n",
       "    </tr>\n",
       "    <tr>\n",
       "      <td>146</td>\n",
       "      <td>6.3</td>\n",
       "      <td>2.5</td>\n",
       "      <td>5.0</td>\n",
       "      <td>1.9</td>\n",
       "      <td>2</td>\n",
       "    </tr>\n",
       "    <tr>\n",
       "      <td>147</td>\n",
       "      <td>6.5</td>\n",
       "      <td>3.0</td>\n",
       "      <td>5.2</td>\n",
       "      <td>2.0</td>\n",
       "      <td>2</td>\n",
       "    </tr>\n",
       "    <tr>\n",
       "      <td>148</td>\n",
       "      <td>6.2</td>\n",
       "      <td>3.4</td>\n",
       "      <td>5.4</td>\n",
       "      <td>2.3</td>\n",
       "      <td>2</td>\n",
       "    </tr>\n",
       "    <tr>\n",
       "      <td>149</td>\n",
       "      <td>5.9</td>\n",
       "      <td>3.0</td>\n",
       "      <td>5.1</td>\n",
       "      <td>1.8</td>\n",
       "      <td>2</td>\n",
       "    </tr>\n",
       "  </tbody>\n",
       "</table>\n",
       "<p>149 rows × 5 columns</p>\n",
       "</div>"
      ],
      "text/plain": [
       "     sepal_length  sepal_width  petal_length  petal_width  species\n",
       "0             5.1          3.5           1.4          0.2        0\n",
       "1             4.9          3.0           1.4          0.2        0\n",
       "2             4.7          3.2           1.3          0.2        0\n",
       "3             4.6          3.1           1.5          0.2        0\n",
       "4             5.0          3.6           1.4          0.2        0\n",
       "..            ...          ...           ...          ...      ...\n",
       "145           6.7          3.0           5.2          2.3        2\n",
       "146           6.3          2.5           5.0          1.9        2\n",
       "147           6.5          3.0           5.2          2.0        2\n",
       "148           6.2          3.4           5.4          2.3        2\n",
       "149           5.9          3.0           5.1          1.8        2\n",
       "\n",
       "[149 rows x 5 columns]"
      ]
     },
     "execution_count": 268,
     "metadata": {},
     "output_type": "execute_result"
    }
   ],
   "source": [
    "\n",
    "df_new=df[(z<3).all(axis=1)]\n",
    "df_new"
   ]
  },
  {
   "cell_type": "code",
   "execution_count": 269,
   "metadata": {},
   "outputs": [
    {
     "data": {
      "text/plain": [
       "(149, 5)"
      ]
     },
     "execution_count": 269,
     "metadata": {},
     "output_type": "execute_result"
    }
   ],
   "source": [
    "df_new.shape  #outlier removed"
   ]
  },
  {
   "cell_type": "code",
   "execution_count": 270,
   "metadata": {},
   "outputs": [
    {
     "data": {
      "text/plain": [
       "(150, 5)"
      ]
     },
     "execution_count": 270,
     "metadata": {},
     "output_type": "execute_result"
    }
   ],
   "source": [
    "df.shape"
   ]
  },
  {
   "cell_type": "code",
   "execution_count": 271,
   "metadata": {},
   "outputs": [
    {
     "data": {
      "text/plain": [
       "<matplotlib.axes._subplots.AxesSubplot at 0x1335d970108>"
      ]
     },
     "execution_count": 271,
     "metadata": {},
     "output_type": "execute_result"
    },
    {
     "data": {
      "image/png": "[encoded data removed]",
      "text/plain": [
       "<Figure size 432x288 with 1 Axes>"
      ]
     },
     "metadata": {
      "needs_background": "light"
     },
     "output_type": "display_data"
    }
   ],
   "source": [
    "#now checking the skewness of dataset\n",
    "sns.distplot(df['sepal_length'])"
   ]
  },
  {
   "cell_type": "code",
   "execution_count": 272,
   "metadata": {},
   "outputs": [
    {
     "data": {
      "text/plain": [
       "<matplotlib.axes._subplots.AxesSubplot at 0x1335dceb188>"
      ]
     },
     "execution_count": 272,
     "metadata": {},
     "output_type": "execute_result"
    },
    {
     "data": {
      "image/png": "[encoded data removed]",
      "text/plain": [
       "<Figure size 432x288 with 1 Axes>"
      ]
     },
     "metadata": {
      "needs_background": "light"
     },
     "output_type": "display_data"
    }
   ],
   "source": [
    "sns.distplot(df['sepal_width'])"
   ]
  },
  {
   "cell_type": "code",
   "execution_count": 273,
   "metadata": {},
   "outputs": [
    {
     "data": {
      "text/plain": [
       "<matplotlib.axes._subplots.AxesSubplot at 0x1335dd875c8>"
      ]
     },
     "execution_count": 273,
     "metadata": {},
     "output_type": "execute_result"
    },
    {
     "data": {
      "image/png": "[encoded data removed]",
      "text/plain": [
       "<Figure size 432x288 with 1 Axes>"
      ]
     },
     "metadata": {
      "needs_background": "light"
     },
     "output_type": "display_data"
    }
   ],
   "source": [
    "sns.distplot(df['petal_length'])"
   ]
  },
  {
   "cell_type": "code",
   "execution_count": 274,
   "metadata": {},
   "outputs": [
    {
     "data": {
      "text/plain": [
       "<matplotlib.axes._subplots.AxesSubplot at 0x1335ddf4148>"
      ]
     },
     "execution_count": 274,
     "metadata": {},
     "output_type": "execute_result"
    },
    {
     "data": {
      "image/png": "[encoded data removed]",
      "text/plain": [
       "<Figure size 432x288 with 1 Axes>"
      ]
     },
     "metadata": {
      "needs_background": "light"
     },
     "output_type": "display_data"
    }
   ],
   "source": [
    "sns.distplot(df['petal_width'])"
   ]
  },
  {
   "cell_type": "code",
   "execution_count": 275,
   "metadata": {},
   "outputs": [
    {
     "data": {
      "text/plain": [
       "sepal_length    0.314911\n",
       "sepal_width     0.318966\n",
       "petal_length   -0.274884\n",
       "petal_width    -0.102967\n",
       "species         0.000000\n",
       "dtype: float64"
      ]
     },
     "execution_count": 275,
     "metadata": {},
     "output_type": "execute_result"
    }
   ],
   "source": [
    "df.skew()   # no skewed data"
   ]
  },
  {
   "cell_type": "code",
   "execution_count": 276,
   "metadata": {},
   "outputs": [],
   "source": [
    "x_train,x_test,y_train,y_test=train_test_split(x,y,test_size=.22,random_state=42)"
   ]
  },
  {
   "cell_type": "code",
   "execution_count": 277,
   "metadata": {},
   "outputs": [
    {
     "name": "stdout",
     "output_type": "stream",
     "text": [
      "(117, 4)\n",
      "(33, 4)\n",
      "(117,)\n",
      "(33,)\n"
     ]
    }
   ],
   "source": [
    "print(x_train.shape)\n",
    "print(x_test.shape)   \n",
    "print(y_train.shape)  \n",
    "print(y_test.shape)"
   ]
  },
  {
   "cell_type": "code",
   "execution_count": 278,
   "metadata": {},
   "outputs": [],
   "source": [
    "# now apply classification because y contain more than two category\n",
    "#there are various classification algorithm apply each algorithm\n",
    "from sklearn.naive_bayes import GaussianNB\n",
    "from sklearn.metrics import accuracy_score,confusion_matrix,classification_report\n",
    "\n",
    "gnb=GaussianNB() # 1.it is classification for more than two categories"
   ]
  },
  {
   "cell_type": "code",
   "execution_count": 279,
   "metadata": {},
   "outputs": [
    {
     "name": "stdout",
     "output_type": "stream",
     "text": [
      "1.0\n",
      "[[12  0  0]\n",
      " [ 0 10  0]\n",
      " [ 0  0 11]]\n",
      "              precision    recall  f1-score   support\n",
      "\n",
      "           0       1.00      1.00      1.00        12\n",
      "           1       1.00      1.00      1.00        10\n",
      "           2       1.00      1.00      1.00        11\n",
      "\n",
      "    accuracy                           1.00        33\n",
      "   macro avg       1.00      1.00      1.00        33\n",
      "weighted avg       1.00      1.00      1.00        33\n",
      "\n"
     ]
    }
   ],
   "source": [
    "gnb.fit(x_train,y_train)\n",
    "gnb.score(x_train,y_train)  #GaussianNB is best for iris dataset\n",
    "predgnb=gnb.predict(x_test)\n",
    "print(accuracy_score(y_test,predgnb))\n",
    "print(confusion_matrix(y_test,predgnb))\n",
    "print(classification_report(y_test,predgnb))\n"
   ]
  },
  {
   "cell_type": "code",
   "execution_count": 280,
   "metadata": {},
   "outputs": [],
   "source": [
    "from sklearn.naive_bayes import MultinomialNB\n",
    "\n",
    "mnb=MultinomialNB()  # second classification algo"
   ]
  },
  {
   "cell_type": "code",
   "execution_count": 281,
   "metadata": {},
   "outputs": [
    {
     "name": "stdout",
     "output_type": "stream",
     "text": [
      "0.9696969696969697\n",
      "[[12  0  0]\n",
      " [ 0 10  0]\n",
      " [ 0  1 10]]\n",
      "              precision    recall  f1-score   support\n",
      "\n",
      "           0       1.00      1.00      1.00        12\n",
      "           1       0.91      1.00      0.95        10\n",
      "           2       1.00      0.91      0.95        11\n",
      "\n",
      "    accuracy                           0.97        33\n",
      "   macro avg       0.97      0.97      0.97        33\n",
      "weighted avg       0.97      0.97      0.97        33\n",
      "\n"
     ]
    }
   ],
   "source": [
    "mnb.fit(x_train,y_train)\n",
    "mnb.score(x_train,y_train)\n",
    "predmnb=mnb.predict(x_test)\n",
    "print(accuracy_score(y_test,predmnb))\n",
    "print(confusion_matrix(y_test,predmnb))\n",
    "print(classification_report(y_test,predmnb))\n"
   ]
  },
  {
   "cell_type": "code",
   "execution_count": 282,
   "metadata": {},
   "outputs": [],
   "source": [
    "from sklearn.neighbors import KNeighborsClassifier\n",
    "dtc=KNeighborsClassifier()   #third classification algorithm"
   ]
  },
  {
   "cell_type": "code",
   "execution_count": 283,
   "metadata": {},
   "outputs": [
    {
     "name": "stdout",
     "output_type": "stream",
     "text": [
      "1.0\n",
      "[[12  0  0]\n",
      " [ 0 10  0]\n",
      " [ 0  0 11]]\n",
      "              precision    recall  f1-score   support\n",
      "\n",
      "           0       1.00      1.00      1.00        12\n",
      "           1       1.00      1.00      1.00        10\n",
      "           2       1.00      1.00      1.00        11\n",
      "\n",
      "    accuracy                           1.00        33\n",
      "   macro avg       1.00      1.00      1.00        33\n",
      "weighted avg       1.00      1.00      1.00        33\n",
      "\n"
     ]
    }
   ],
   "source": [
    "dtc.fit(x_train,y_train)\n",
    "dtc.score(x_train,y_train)\n",
    "preddtc=dtc.predict(x_test)\n",
    "print(accuracy_score(y_test,preddtc))\n",
    "print(confusion_matrix(y_test,preddtc))\n",
    "print(classification_report(y_test,preddtc))"
   ]
  },
  {
   "cell_type": "code",
   "execution_count": 284,
   "metadata": {},
   "outputs": [],
   "source": [
    "from sklearn.svm import SVC\n",
    "svc=SVC()     # fourth classification algo"
   ]
  },
  {
   "cell_type": "code",
   "execution_count": 285,
   "metadata": {},
   "outputs": [
    {
     "name": "stdout",
     "output_type": "stream",
     "text": [
      "1.0\n",
      "[[12  0  0]\n",
      " [ 0 10  0]\n",
      " [ 0  0 11]]\n",
      "              precision    recall  f1-score   support\n",
      "\n",
      "           0       1.00      1.00      1.00        12\n",
      "           1       1.00      1.00      1.00        10\n",
      "           2       1.00      1.00      1.00        11\n",
      "\n",
      "    accuracy                           1.00        33\n",
      "   macro avg       1.00      1.00      1.00        33\n",
      "weighted avg       1.00      1.00      1.00        33\n",
      "\n"
     ]
    }
   ],
   "source": [
    "svc.fit(x_train,y_train)\n",
    "svc.score(x_train,y_train)\n",
    "predsvc=svc.predict(x_test)\n",
    "print(accuracy_score(y_test,predsvc))\n",
    "print(confusion_matrix(y_test,predsvc))\n",
    "print(classification_report(y_test,predsvc))"
   ]
  },
  {
   "cell_type": "code",
   "execution_count": 286,
   "metadata": {},
   "outputs": [],
   "source": [
    "from sklearn.tree import DecisionTreeClassifier\n",
    "\n",
    "dt=DecisionTreeClassifier()\n"
   ]
  },
  {
   "cell_type": "code",
   "execution_count": 287,
   "metadata": {},
   "outputs": [
    {
     "name": "stdout",
     "output_type": "stream",
     "text": [
      "1.0\n",
      "[[12  0  0]\n",
      " [ 0 10  0]\n",
      " [ 0  0 11]]\n",
      "              precision    recall  f1-score   support\n",
      "\n",
      "           0       1.00      1.00      1.00        12\n",
      "           1       1.00      1.00      1.00        10\n",
      "           2       1.00      1.00      1.00        11\n",
      "\n",
      "    accuracy                           1.00        33\n",
      "   macro avg       1.00      1.00      1.00        33\n",
      "weighted avg       1.00      1.00      1.00        33\n",
      "\n"
     ]
    }
   ],
   "source": [
    "dt.fit(x_train,y_train)\n",
    "dt.score(x_train,y_train)\n",
    "preddt=dt.predict(x_test)\n",
    "print(accuracy_score(y_test,preddt))\n",
    "print(confusion_matrix(y_test,preddt))\n",
    "print(classification_report(y_test,preddt))\n"
   ]
  },
  {
   "cell_type": "code",
   "execution_count": 288,
   "metadata": {},
   "outputs": [
    {
     "name": "stdout",
     "output_type": "stream",
     "text": [
      "[0.93333333 0.93333333 1.         0.93333333 0.93333333 0.93333333\n",
      " 0.86666667 1.         1.         1.        ]\n",
      "0.9533333333333334 0.04268749491621898\n"
     ]
    }
   ],
   "source": [
    "#cross validation is the best way to evalute models used for prediction\n",
    "#also known as \n",
    "from sklearn.model_selection import cross_val_score\n",
    "gnbscores=cross_val_score(gnb,x,y,cv=10)\n",
    "print(gnbscores)\n",
    "print(gnbscores.mean(),gnbscores.std())    #guassianNB"
   ]
  },
  {
   "cell_type": "code",
   "execution_count": 289,
   "metadata": {},
   "outputs": [
    {
     "name": "stdout",
     "output_type": "stream",
     "text": [
      "[0.96666667 1.         0.96666667 0.96666667 1.        ]\n",
      "0.9800000000000001 0.016329931618554516\n"
     ]
    }
   ],
   "source": [
    "from sklearn.model_selection import cross_val_score #varience is error from sensitivity to small fluctuations in  training set\n",
    "svcscores=cross_val_score(svc,x,y,cv=5) #high varience cause overfitting--\n",
    "print(svcscores)\n",
    "print(svcscores.mean(),svcscores.std())  #support vector classification"
   ]
  },
  {
   "cell_type": "code",
   "execution_count": 290,
   "metadata": {},
   "outputs": [
    {
     "name": "stdout",
     "output_type": "stream",
     "text": [
      "[0.96666667 0.96666667 0.9        0.96666667 1.        ]\n",
      "0.9600000000000002 0.03265986323710903\n"
     ]
    }
   ],
   "source": [
    "from sklearn.model_selection import cross_val_score  #cross validation is used to overcome the problem of overfitting and \n",
    "                                                     # underfitting in such algo like linear regression,decision tree and others\n",
    "dtscores=cross_val_score(dt,x,y,cv=5)               #decision tree algo\n",
    "print(dtscores)\n",
    "print(dtscores.mean(),dtscores.std())"
   ]
  },
  {
   "cell_type": "code",
   "execution_count": 291,
   "metadata": {},
   "outputs": [
    {
     "name": "stdout",
     "output_type": "stream",
     "text": [
      "[1.         0.96666667 0.9        0.9        1.        ]\n",
      "0.9533333333333334 0.04521553322083511\n"
     ]
    }
   ],
   "source": [
    "from sklearn.model_selection import cross_val_score\n",
    "mnbscores=cross_val_score(mnb,x,y,cv=5)  #multinomial algo\n",
    "print(mnbscores)\n",
    "print(mnbscores.mean(),mnbscores.std())"
   ]
  },
  {
   "cell_type": "code",
   "execution_count": 292,
   "metadata": {},
   "outputs": [
    {
     "name": "stdout",
     "output_type": "stream",
     "text": [
      "[0.96666667 1.         0.93333333 0.96666667 1.        ]\n",
      "0.9733333333333334 0.02494438257849294\n"
     ]
    }
   ],
   "source": [
    "from sklearn.model_selection import cross_val_score\n",
    "dtcscores=cross_val_score(dtc,x,y,cv=5)  #multinomial algo\n",
    "print(dtcscores)\n",
    "print(dtcscores.mean(),dtcscores.std())"
   ]
  },
  {
   "cell_type": "markdown",
   "metadata": {},
   "source": [
    "# so best classification model is \"Support Vector Classifier\"\n",
    "Mean------      0.9800000000000001 (98% accuracy)\n",
    "St.deviation----0.016329931618554516\n"
   ]
  },
  {
   "cell_type": "code",
   "execution_count": 293,
   "metadata": {},
   "outputs": [
    {
     "data": {
      "text/plain": [
       "['iris.pkl']"
      ]
     },
     "execution_count": 293,
     "metadata": {},
     "output_type": "execute_result"
    }
   ],
   "source": [
    "#save the model\n",
    "from sklearn.externals import joblib\n",
    "joblib.dump(svc,'iris.pkl')"
   ]
  },
  {
   "cell_type": "code",
   "execution_count": null,
   "metadata": {},
   "outputs": [],
   "source": []
  }
 ],
 "metadata": {
  "kernelspec": {
   "display_name": "Python 3",
   "language": "python",
   "name": "python3"
  },
  "language_info": {
   "codemirror_mode": {
    "name": "ipython",
    "version": 3
   },
   "file_extension": ".py",
   "mimetype": "text/x-python",
   "name": "python",
   "nbconvert_exporter": "python",
   "pygments_lexer": "ipython3",
   "version": "3.7.4"
  }
 },
 "nbformat": 4,
 "nbformat_minor": 2
}
